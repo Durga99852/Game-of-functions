{
 "cells": [
  {
   "cell_type": "code",
   "execution_count": 1,
   "id": "03c41927",
   "metadata": {},
   "outputs": [
    {
     "name": "stdout",
     "output_type": "stream",
     "text": [
      "20\n"
     ]
    }
   ],
   "source": [
    "def summ(num):  #define a function\n",
    "    sum=0\n",
    "    for i in num:   #adding the given inputs \n",
    "        sum+=i     \n",
    "    return sum\n",
    "num=(8,2,3,0,7)    #taken as input\n",
    "print(summ(num))    #print the output"
   ]
  },
  {
   "cell_type": "markdown",
   "id": "0a3b8b91",
   "metadata": {},
   "source": [
    "# Test cases"
   ]
  },
  {
   "cell_type": "code",
   "execution_count": 2,
   "id": "30f459ab",
   "metadata": {},
   "outputs": [
    {
     "name": "stdout",
     "output_type": "stream",
     "text": [
      "3200857\n"
     ]
    }
   ],
   "source": [
    "def summ(num):\n",
    "    sum=0\n",
    "    for i in num:\n",
    "        sum+=i\n",
    "    return sum\n",
    "num=(545,0,-456945,3657257)\n",
    "print(summ(num))"
   ]
  },
  {
   "cell_type": "markdown",
   "id": "454e926c",
   "metadata": {},
   "source": [
    "# # Test cases"
   ]
  },
  {
   "cell_type": "code",
   "execution_count": 3,
   "id": "8124a04f",
   "metadata": {},
   "outputs": [
    {
     "name": "stdout",
     "output_type": "stream",
     "text": [
      "-3664.2000000000007\n"
     ]
    }
   ],
   "source": [
    "def summ(num):\n",
    "    sum=0\n",
    "    for i in num:\n",
    "        sum+=i\n",
    "    return sum\n",
    "num=(-8534,0,75.8,4794)\n",
    "print(summ(num))"
   ]
  },
  {
   "cell_type": "code",
   "execution_count": null,
   "id": "29c55fc1",
   "metadata": {},
   "outputs": [],
   "source": []
  }
 ],
 "metadata": {
  "kernelspec": {
   "display_name": "Python 3 (ipykernel)",
   "language": "python",
   "name": "python3"
  },
  "language_info": {
   "codemirror_mode": {
    "name": "ipython",
    "version": 3
   },
   "file_extension": ".py",
   "mimetype": "text/x-python",
   "name": "python",
   "nbconvert_exporter": "python",
   "pygments_lexer": "ipython3",
   "version": "3.10.0"
  }
 },
 "nbformat": 4,
 "nbformat_minor": 5
}
